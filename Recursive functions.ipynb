{
 "cells": [
  {
   "cell_type": "code",
   "execution_count": 3,
   "id": "d34e19ab-68f9-4662-9926-a46cc7dc8126",
   "metadata": {},
   "outputs": [
    {
     "name": "stdin",
     "output_type": "stream",
     "text": [
      "enter n: 10\n"
     ]
    },
    {
     "name": "stdout",
     "output_type": "stream",
     "text": [
      "sum of first 10 natural numbers is 55\n"
     ]
    }
   ],
   "source": [
    "#sum of n natural numbers using recurtions in functionc\n",
    "def nsum(n):\n",
    "    if n==0:\n",
    "        return 0\n",
    "    return n+nsum(n-1)\n",
    "num=int(input(\"enter n:\"))\n",
    "print(\"sum of first\",num,\"natural numbers is\",nsum(num))"
   ]
  },
  {
   "cell_type": "code",
   "execution_count": 7,
   "id": "13bae395-7ca9-4f2d-9dfe-9ebd75f0aa55",
   "metadata": {},
   "outputs": [
    {
     "name": "stdin",
     "output_type": "stream",
     "text": [
      "enter the number: 5\n"
     ]
    },
    {
     "name": "stdout",
     "output_type": "stream",
     "text": [
      "120\n"
     ]
    }
   ],
   "source": [
    "#Factorial program using recurtion in functions\n",
    "def factorial(n):\n",
    "    if n==0 or n==1:\n",
    "        return 1\n",
    "    return n*factorial(n-1)\n",
    "num=int(input(\"enter the number:\"))\n",
    "value=factorial(num)\n",
    "print(value)"
   ]
  },
  {
   "cell_type": "code",
   "execution_count": 11,
   "id": "6f3426c1-f70c-4296-a860-b903525275c0",
   "metadata": {},
   "outputs": [
    {
     "name": "stdin",
     "output_type": "stream",
     "text": [
      "enter a word: ravikumar\n"
     ]
    },
    {
     "name": "stdout",
     "output_type": "stream",
     "text": [
      "ramukivar\n"
     ]
    }
   ],
   "source": [
    "#Reverse a string using recurtion function\n",
    "def rstring(s):\n",
    "    if len(s)==0:\n",
    "        return s\n",
    "    return rstring(s[1:])+s[0]\n",
    "text=input(\"enter a word:\")\n",
    "print(rstring(text))"
   ]
  },
  {
   "cell_type": "code",
   "execution_count": 15,
   "id": "f005dc39-bedb-4094-b163-161fb9a44f55",
   "metadata": {},
   "outputs": [
    {
     "name": "stdout",
     "output_type": "stream",
     "text": [
      "1\n",
      "2\n",
      "3\n",
      "4\n",
      "5\n",
      "6\n",
      "7\n",
      "8\n",
      "9\n",
      "10\n"
     ]
    }
   ],
   "source": [
    "\n",
    "i=1\n",
    "while i<=10:\n",
    "    print(i)\n",
    "    i+=1"
   ]
  },
  {
   "cell_type": "code",
   "execution_count": 35,
   "id": "df9f7a9b-003e-4316-9014-3944b6e6b8ae",
   "metadata": {},
   "outputs": [
    {
     "name": "stdout",
     "output_type": "stream",
     "text": [
      "6\n",
      "[1, 2, 3, 4, 5, 6, 7, 8, 9, 10]\n",
      "10\n",
      "1\n",
      "-33\n",
      "[-88, -33, -22, -1, 0, 33, 61]\n"
     ]
    }
   ],
   "source": [
    "def sumnum(*args):\n",
    "    print(args[5])\n",
    "    return sorted(args)\n",
    "    \n",
    "print(sumnum(1,2,3,4,5,6,7,8,9,10))\n",
    "print(max(1,2,3,4,5,6,7,8,9,10))\n",
    "print(min(1,2,3,4,5,6,7,8,9,10))\n",
    "print(sumnum(-22,33,61,-1,0,-33,-88))\n"
   ]
  },
  {
   "cell_type": "code",
   "execution_count": 43,
   "id": "c54c6914-ae4c-4a19-a574-80c9160322e9",
   "metadata": {},
   "outputs": [
    {
     "name": "stdout",
     "output_type": "stream",
     "text": [
      "name:Ravi\n",
      "age:21\n",
      "cgpa:7.5\n",
      "Name:Ravi\n"
     ]
    }
   ],
   "source": [
    "#key wordargs **kwargs\n",
    "def info(**kwargs):\n",
    "    for key,value in kwargs.items():\n",
    "        print(f\"{key}:{value}\")\n",
    "    name=kwargs[\"name\"]\n",
    "    print(f\"Name:{name}\")\n",
    "info(name=\"Ravi\",age=21,cgpa=7.5)"
   ]
  },
  {
   "cell_type": "code",
   "execution_count": 51,
   "id": "7bf233d7-a120-498f-b3ec-f8694e8efdd2",
   "metadata": {},
   "outputs": [
    {
     "name": "stdout",
     "output_type": "stream",
     "text": [
      "keys: dict_keys(['name', 'age', 'cgpa'])\n",
      "values: dict_values(['Ravi', 21, 7.5])\n"
     ]
    }
   ],
   "source": [
    "def info(**kwargs):\n",
    "    print(\"keys:\",kwargs.keys())\n",
    "info(name='Ravi',age=21,cgpa=7.5)\n",
    "def info(**kwargs):\n",
    "    print(\"values:\",kwargs.values())\n",
    "info(name='Ravi',age=21,cgpa=7.5)\n",
    "\n",
    "\n",
    "\n"
   ]
  },
  {
   "cell_type": "code",
   "execution_count": null,
   "id": "defa1d88-0ae8-4e10-8c98-da216b239094",
   "metadata": {},
   "outputs": [],
   "source": [
    "'''\n",
    "print 10 fibonacci numbers using direct recursiom\n",
    "'''\n",
    "def fibonacci(n):\n",
    "    n1,n2=0,1\n",
    "    for i in range(n1,n+1):\n",
    "        if "
   ]
  }
 ],
 "metadata": {
  "kernelspec": {
   "display_name": "Python 3 (ipykernel)",
   "language": "python",
   "name": "python3"
  },
  "language_info": {
   "codemirror_mode": {
    "name": "ipython",
    "version": 3
   },
   "file_extension": ".py",
   "mimetype": "text/x-python",
   "name": "python",
   "nbconvert_exporter": "python",
   "pygments_lexer": "ipython3",
   "version": "3.12.7"
  }
 },
 "nbformat": 4,
 "nbformat_minor": 5
}
