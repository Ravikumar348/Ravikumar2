{
 "cells": [
  {
   "cell_type": "code",
   "execution_count": 3,
   "id": "60f42dcc-2aa0-4c9f-84dd-d13fcffb3608",
   "metadata": {},
   "outputs": [
    {
     "name": "stdout",
     "output_type": "stream",
     "text": [
      "This is outer function...\n",
      "This is inner function.....\n",
      "This is inner with in inner....\n"
     ]
    }
   ],
   "source": [
    "#syntax def outer()and inner():\n",
    "    print(\"This is outer function...\")\n",
    "    def inner():\n",
    "        print(\"This is inner function.....\")\n",
    "        def innerwithininner():\n",
    "            print(\"This is inner with in inner....\")\n",
    "        innerwithininner()\n",
    "    inner()\n",
    "outer()"
   ]
  },
  {
   "cell_type": "code",
   "execution_count": 7,
   "id": "0b07d728-f9d7-4159-88d6-31faf54168cc",
   "metadata": {},
   "outputs": [
    {
     "name": "stdin",
     "output_type": "stream",
     "text": [
      "enter the value of a: 2\n",
      "enter the value of b: 3\n"
     ]
    },
    {
     "name": "stdout",
     "output_type": "stream",
     "text": [
      "addition: 5\n",
      "subtraction: -1\n",
      "multiplication: 6\n"
     ]
    }
   ],
   "source": [
    "#arithmatic cal using function within function\n",
    "def cal(a,b):\n",
    "    def add():\n",
    "        return a+b\n",
    "    def sub():\n",
    "        return a-b\n",
    "    def mul():\n",
    "        return a*b\n",
    "    print(\"addition:\",add())\n",
    "    print(\"subtraction:\",sub())\n",
    "    print(\"multiplication:\",mul())\n",
    "a=int(input(\"enter the value of a:\"))\n",
    "b=int(input(\"enter the value of b:\"))\n",
    "cal(a,b)"
   ]
  },
  {
   "cell_type": "code",
   "execution_count": null,
   "id": "16e1ce3f-7fc9-4e8d-b47e-c4d568e8a649",
   "metadata": {},
   "outputs": [],
   "source": []
  }
 ],
 "metadata": {
  "kernelspec": {
   "display_name": "Python 3 (ipykernel)",
   "language": "python",
   "name": "python3"
  },
  "language_info": {
   "codemirror_mode": {
    "name": "ipython",
    "version": 3
   },
   "file_extension": ".py",
   "mimetype": "text/x-python",
   "name": "python",
   "nbconvert_exporter": "python",
   "pygments_lexer": "ipython3",
   "version": "3.12.7"
  }
 },
 "nbformat": 4,
 "nbformat_minor": 5
}
