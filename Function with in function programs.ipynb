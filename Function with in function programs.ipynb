{
 "cells": [
  {
   "cell_type": "code",
   "execution_count": 3,
   "id": "60f42dcc-2aa0-4c9f-84dd-d13fcffb3608",
   "metadata": {},
   "outputs": [
    {
     "name": "stdout",
     "output_type": "stream",
     "text": [
      "This is outer function...\n",
      "This is inner function.....\n",
      "This is inner with in inner....\n"
     ]
    }
   ],
   "source": [
    "#syntax def outer()and inner():\n",
    "    print(\"This is outer function...\")\n",
    "    def inner():\n",
    "        print(\"This is inner function.....\")\n",
    "        def innerwithininner():\n",
    "            print(\"This is inner with in inner....\")\n",
    "        innerwithininner()\n",
    "    inner()\n",
    "outer()"
   ]
  },
  {
   "cell_type": "code",
   "execution_count": 7,
   "id": "0b07d728-f9d7-4159-88d6-31faf54168cc",
   "metadata": {},
   "outputs": [
    {
     "name": "stdin",
     "output_type": "stream",
     "text": [
      "enter the value of a: 2\n",
      "enter the value of b: 3\n"
     ]
    },
    {
     "name": "stdout",
     "output_type": "stream",
     "text": [
      "addition: 5\n",
      "subtraction: -1\n",
      "multiplication: 6\n"
     ]
    }
   ],
   "source": [
    "#arithmatic cal using function within function\n",
    "def cal(a,b):\n",
    "    def add():\n",
    "        return a+b\n",
    "    def sub():\n",
    "        return a-b\n",
    "    def mul():\n",
    "        return a*b\n",
    "    print(\"addition:\",add())\n",
    "    print(\"subtraction:\",sub())\n",
    "    print(\"multiplication:\",mul())\n",
    "a=int(input(\"enter the value of a:\"))\n",
    "b=int(input(\"enter the value of b:\"))\n",
    "cal(a,b)"
   ]
  },
  {
   "cell_type": "code",
   "execution_count": 13,
   "id": "16e1ce3f-7fc9-4e8d-b47e-c4d568e8a649",
   "metadata": {},
   "outputs": [
    {
     "name": "stdout",
     "output_type": "stream",
     "text": [
      "HelloRavi!!!!\n"
     ]
    }
   ],
   "source": [
    "# set attribute in inner function\n",
    "def greet(a):\n",
    "    def hi(b):\n",
    "        return(f\"{a} {b}!!!!\")\n",
    "    return hi\n",
    "hi=greet(\"Hello\")\n",
    "print(hi(\"Ravi\"))"
   ]
  },
  {
   "cell_type": "code",
   "execution_count": 19,
   "id": "3d429737-85a7-497d-b41b-25908efe9483",
   "metadata": {},
   "outputs": [
    {
     "name": "stdout",
     "output_type": "stream",
     "text": [
      "10\n",
      "60\n"
     ]
    }
   ],
   "source": [
    "def mul_by(n):\n",
    "    def inner(x):\n",
    "        return x*n\n",
    "    return inner\n",
    "times_2=mul_by(2)#n=2\n",
    "times_3=mul_by(3)#n=3\n",
    "print(times_2(5))\n",
    "print(times_3(20))"
   ]
  },
  {
   "cell_type": "code",
   "execution_count": 29,
   "id": "839e3c28-fa12-4871-9462-456065d76a1b",
   "metadata": {},
   "outputs": [
    {
     "name": "stdout",
     "output_type": "stream",
     "text": [
      "Mr.Ravi\n",
      "Dr.Ganesh\n"
     ]
    }
   ],
   "source": [
    "#using function with in function\n",
    "def titled(a):\n",
    "    def inner(b):\n",
    "        return f\"{a}{b}\"\n",
    "    return inner\n",
    "mr_greet=titled(\"Mr.\")\n",
    "Dr_greet=titled(\"Dr.\")\n",
    "print(mr_greet(\"Ravi\"))\n",
    "print(Dr_greet(\"Ganesh\"))\n",
    "               "
   ]
  },
  {
   "cell_type": "code",
   "execution_count": 33,
   "id": "f4c20fb2-7d74-4d3e-8578-6325c30f80fe",
   "metadata": {},
   "outputs": [
    {
     "name": "stdout",
     "output_type": "stream",
     "text": [
      "x+y= 270\n"
     ]
    }
   ],
   "source": [
    "x=100\n",
    "y=120\n",
    "def display():\n",
    "    x=150\n",
    "    print(\"x+y=\",x+y)\n",
    "display()"
   ]
  },
  {
   "cell_type": "code",
   "execution_count": 57,
   "id": "d05eaddc-0e60-46fe-aaa1-43799796f5d7",
   "metadata": {},
   "outputs": [
    {
     "name": "stdin",
     "output_type": "stream",
     "text": [
      "enter the marks of a subject: 20\n"
     ]
    },
    {
     "name": "stdout",
     "output_type": "stream",
     "text": [
      "subject1_marks 20\n",
      "total marks 20\n"
     ]
    },
    {
     "name": "stdin",
     "output_type": "stream",
     "text": [
      "enter the marks of a subject: 40\n"
     ]
    },
    {
     "name": "stdout",
     "output_type": "stream",
     "text": [
      "subject2_marks 40\n",
      "total marks 60\n"
     ]
    },
    {
     "name": "stdin",
     "output_type": "stream",
     "text": [
      "enter the marks of a subject: 70\n"
     ]
    },
    {
     "name": "stdout",
     "output_type": "stream",
     "text": [
      "subject3_marks 70\n",
      "total marks 130\n",
      "average of total marks 43.333333333333336\n",
      "Percentage of total marks 3.9000000000000004\n"
     ]
    }
   ],
   "source": [
    "total=0\n",
    "def add_sub_marks():\n",
    "    global total\n",
    "    marks=int(input(\"enter the marks of a subject:\"))\n",
    "    total+=marks\n",
    "    return marks\n",
    "print(\"subject1_marks\",add_sub_marks())\n",
    "print(\"total marks\",total)\n",
    "print(\"subject2_marks\",add_sub_marks())\n",
    "print(\"total marks\",total)\n",
    "print(\"subject3_marks\",add_sub_marks())\n",
    "print(\"total marks\",total)\n",
    "print(\"average of total marks\",total/3)\n",
    "print(\"Percentage of total marks\",(total/100)*3)"
   ]
  },
  {
   "cell_type": "code",
   "execution_count": null,
   "id": "8d541ea7-db1b-424e-b6ad-ae46f6e9d642",
   "metadata": {},
   "outputs": [],
   "source": [
    "subject_marks=[]\n",
    "def add_subject_marks():\n",
    "    mark=int(input(\"enter the marks for a subject:\"))\n",
    "    subject_marks.append(mark)\n",
    "    return mark\n",
    "print(\"subject 1 marks:\",add_subject_marks())\n",
    "print(\"subject 2 marks:\",add_subject_marks())\n",
    "print(\"subject 3 marks:\",add_subject_marks())\n",
    "print(\"all subject marks\",subject_marks)\n",
    "total=sum(subject_marks)\n",
    "l=len(subject_marks)\n",
    "\n",
    "\n"
   ]
  }
 ],
 "metadata": {
  "kernelspec": {
   "display_name": "Python 3 (ipykernel)",
   "language": "python",
   "name": "python3"
  },
  "language_info": {
   "codemirror_mode": {
    "name": "ipython",
    "version": 3
   },
   "file_extension": ".py",
   "mimetype": "text/x-python",
   "name": "python",
   "nbconvert_exporter": "python",
   "pygments_lexer": "ipython3",
   "version": "3.12.7"
  }
 },
 "nbformat": 4,
 "nbformat_minor": 5
}
